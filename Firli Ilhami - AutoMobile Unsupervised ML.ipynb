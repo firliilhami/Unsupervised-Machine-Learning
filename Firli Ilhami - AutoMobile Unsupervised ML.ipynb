{
 "cells": [
  {
   "cell_type": "code",
   "execution_count": 6,
   "metadata": {},
   "outputs": [],
   "source": [
    "import pandas as pd\n",
    "import numpy as np"
   ]
  },
  {
   "cell_type": "code",
   "execution_count": 63,
   "metadata": {},
   "outputs": [],
   "source": [
    "import matplotlib.pyplot as plt\n",
    "import seaborn as sns\n",
    "%matplotlib inline"
   ]
  },
  {
   "cell_type": "code",
   "execution_count": 77,
   "metadata": {},
   "outputs": [],
   "source": [
    "from sklearn.cluster import AgglomerativeClustering\n",
    "import scipy.cluster.hierarchy as sch"
   ]
  },
  {
   "cell_type": "code",
   "execution_count": null,
   "metadata": {},
   "outputs": [],
   "source": []
  },
  {
   "cell_type": "code",
   "execution_count": null,
   "metadata": {},
   "outputs": [],
   "source": []
  },
  {
   "cell_type": "code",
   "execution_count": 8,
   "metadata": {},
   "outputs": [],
   "source": [
    "df_losses=pd.read_csv('Automobile-losses.csv')\n",
    "df_risk=pd.read_csv('Automobile-risk.csv')\n",
    "df_spec=pd.read_csv('Automobile-spec.csv')"
   ]
  },
  {
   "cell_type": "code",
   "execution_count": 9,
   "metadata": {},
   "outputs": [],
   "source": [
    "df=pd.merge(df_losses,df_risk,how='inner',on='ID')\n",
    "df=pd.merge(df,df_spec,how='inner',on='ID')"
   ]
  },
  {
   "cell_type": "code",
   "execution_count": 14,
   "metadata": {},
   "outputs": [
    {
     "data": {
      "text/html": [
       "<div>\n",
       "<style scoped>\n",
       "    .dataframe tbody tr th:only-of-type {\n",
       "        vertical-align: middle;\n",
       "    }\n",
       "\n",
       "    .dataframe tbody tr th {\n",
       "        vertical-align: top;\n",
       "    }\n",
       "\n",
       "    .dataframe thead th {\n",
       "        text-align: right;\n",
       "    }\n",
       "</style>\n",
       "<table border=\"1\" class=\"dataframe\">\n",
       "  <thead>\n",
       "    <tr style=\"text-align: right;\">\n",
       "      <th></th>\n",
       "      <th>ID</th>\n",
       "      <th>normalized-losses</th>\n",
       "      <th>symboling</th>\n",
       "      <th>wheel-base</th>\n",
       "      <th>length</th>\n",
       "      <th>width</th>\n",
       "      <th>height</th>\n",
       "      <th>curb-weight</th>\n",
       "      <th>engine-size</th>\n",
       "      <th>bore</th>\n",
       "      <th>stroke</th>\n",
       "      <th>compression-ratio</th>\n",
       "      <th>horsepower</th>\n",
       "      <th>peak-rpm</th>\n",
       "      <th>city-mpg</th>\n",
       "      <th>highway-mpg</th>\n",
       "      <th>price</th>\n",
       "    </tr>\n",
       "  </thead>\n",
       "  <tbody>\n",
       "    <tr>\n",
       "      <th>count</th>\n",
       "      <td>205.000000</td>\n",
       "      <td>164.000000</td>\n",
       "      <td>205.000000</td>\n",
       "      <td>205.000000</td>\n",
       "      <td>205.000000</td>\n",
       "      <td>205.000000</td>\n",
       "      <td>205.000000</td>\n",
       "      <td>205.000000</td>\n",
       "      <td>205.000000</td>\n",
       "      <td>201.000000</td>\n",
       "      <td>201.000000</td>\n",
       "      <td>205.000000</td>\n",
       "      <td>203.000000</td>\n",
       "      <td>203.000000</td>\n",
       "      <td>205.000000</td>\n",
       "      <td>205.000000</td>\n",
       "      <td>201.000000</td>\n",
       "    </tr>\n",
       "    <tr>\n",
       "      <th>mean</th>\n",
       "      <td>103.000000</td>\n",
       "      <td>122.000000</td>\n",
       "      <td>0.834146</td>\n",
       "      <td>98.756585</td>\n",
       "      <td>174.049268</td>\n",
       "      <td>65.907805</td>\n",
       "      <td>53.724878</td>\n",
       "      <td>2555.565854</td>\n",
       "      <td>126.907317</td>\n",
       "      <td>3.329751</td>\n",
       "      <td>3.255423</td>\n",
       "      <td>10.142537</td>\n",
       "      <td>104.256158</td>\n",
       "      <td>5125.369458</td>\n",
       "      <td>25.219512</td>\n",
       "      <td>30.751220</td>\n",
       "      <td>13207.129353</td>\n",
       "    </tr>\n",
       "    <tr>\n",
       "      <th>std</th>\n",
       "      <td>59.322565</td>\n",
       "      <td>35.442168</td>\n",
       "      <td>1.245307</td>\n",
       "      <td>6.021776</td>\n",
       "      <td>12.337289</td>\n",
       "      <td>2.145204</td>\n",
       "      <td>2.443522</td>\n",
       "      <td>520.680204</td>\n",
       "      <td>41.642693</td>\n",
       "      <td>0.273539</td>\n",
       "      <td>0.316717</td>\n",
       "      <td>3.972040</td>\n",
       "      <td>39.714369</td>\n",
       "      <td>479.334560</td>\n",
       "      <td>6.542142</td>\n",
       "      <td>6.886443</td>\n",
       "      <td>7947.066342</td>\n",
       "    </tr>\n",
       "    <tr>\n",
       "      <th>min</th>\n",
       "      <td>1.000000</td>\n",
       "      <td>65.000000</td>\n",
       "      <td>-2.000000</td>\n",
       "      <td>86.600000</td>\n",
       "      <td>141.100000</td>\n",
       "      <td>60.300000</td>\n",
       "      <td>47.800000</td>\n",
       "      <td>1488.000000</td>\n",
       "      <td>61.000000</td>\n",
       "      <td>2.540000</td>\n",
       "      <td>2.070000</td>\n",
       "      <td>7.000000</td>\n",
       "      <td>48.000000</td>\n",
       "      <td>4150.000000</td>\n",
       "      <td>13.000000</td>\n",
       "      <td>16.000000</td>\n",
       "      <td>5118.000000</td>\n",
       "    </tr>\n",
       "    <tr>\n",
       "      <th>25%</th>\n",
       "      <td>52.000000</td>\n",
       "      <td>94.000000</td>\n",
       "      <td>0.000000</td>\n",
       "      <td>94.500000</td>\n",
       "      <td>166.300000</td>\n",
       "      <td>64.100000</td>\n",
       "      <td>52.000000</td>\n",
       "      <td>2145.000000</td>\n",
       "      <td>97.000000</td>\n",
       "      <td>3.150000</td>\n",
       "      <td>3.110000</td>\n",
       "      <td>8.600000</td>\n",
       "      <td>70.000000</td>\n",
       "      <td>4800.000000</td>\n",
       "      <td>19.000000</td>\n",
       "      <td>25.000000</td>\n",
       "      <td>7775.000000</td>\n",
       "    </tr>\n",
       "    <tr>\n",
       "      <th>50%</th>\n",
       "      <td>103.000000</td>\n",
       "      <td>115.000000</td>\n",
       "      <td>1.000000</td>\n",
       "      <td>97.000000</td>\n",
       "      <td>173.200000</td>\n",
       "      <td>65.500000</td>\n",
       "      <td>54.100000</td>\n",
       "      <td>2414.000000</td>\n",
       "      <td>120.000000</td>\n",
       "      <td>3.310000</td>\n",
       "      <td>3.290000</td>\n",
       "      <td>9.000000</td>\n",
       "      <td>95.000000</td>\n",
       "      <td>5200.000000</td>\n",
       "      <td>24.000000</td>\n",
       "      <td>30.000000</td>\n",
       "      <td>10295.000000</td>\n",
       "    </tr>\n",
       "    <tr>\n",
       "      <th>75%</th>\n",
       "      <td>154.000000</td>\n",
       "      <td>150.000000</td>\n",
       "      <td>2.000000</td>\n",
       "      <td>102.400000</td>\n",
       "      <td>183.100000</td>\n",
       "      <td>66.900000</td>\n",
       "      <td>55.500000</td>\n",
       "      <td>2935.000000</td>\n",
       "      <td>141.000000</td>\n",
       "      <td>3.590000</td>\n",
       "      <td>3.410000</td>\n",
       "      <td>9.400000</td>\n",
       "      <td>116.000000</td>\n",
       "      <td>5500.000000</td>\n",
       "      <td>30.000000</td>\n",
       "      <td>34.000000</td>\n",
       "      <td>16500.000000</td>\n",
       "    </tr>\n",
       "    <tr>\n",
       "      <th>max</th>\n",
       "      <td>205.000000</td>\n",
       "      <td>256.000000</td>\n",
       "      <td>3.000000</td>\n",
       "      <td>120.900000</td>\n",
       "      <td>208.100000</td>\n",
       "      <td>72.300000</td>\n",
       "      <td>59.800000</td>\n",
       "      <td>4066.000000</td>\n",
       "      <td>326.000000</td>\n",
       "      <td>3.940000</td>\n",
       "      <td>4.170000</td>\n",
       "      <td>23.000000</td>\n",
       "      <td>288.000000</td>\n",
       "      <td>6600.000000</td>\n",
       "      <td>49.000000</td>\n",
       "      <td>54.000000</td>\n",
       "      <td>45400.000000</td>\n",
       "    </tr>\n",
       "  </tbody>\n",
       "</table>\n",
       "</div>"
      ],
      "text/plain": [
       "               ID  normalized-losses   symboling  wheel-base      length  \\\n",
       "count  205.000000         164.000000  205.000000  205.000000  205.000000   \n",
       "mean   103.000000         122.000000    0.834146   98.756585  174.049268   \n",
       "std     59.322565          35.442168    1.245307    6.021776   12.337289   \n",
       "min      1.000000          65.000000   -2.000000   86.600000  141.100000   \n",
       "25%     52.000000          94.000000    0.000000   94.500000  166.300000   \n",
       "50%    103.000000         115.000000    1.000000   97.000000  173.200000   \n",
       "75%    154.000000         150.000000    2.000000  102.400000  183.100000   \n",
       "max    205.000000         256.000000    3.000000  120.900000  208.100000   \n",
       "\n",
       "            width      height  curb-weight  engine-size        bore  \\\n",
       "count  205.000000  205.000000   205.000000   205.000000  201.000000   \n",
       "mean    65.907805   53.724878  2555.565854   126.907317    3.329751   \n",
       "std      2.145204    2.443522   520.680204    41.642693    0.273539   \n",
       "min     60.300000   47.800000  1488.000000    61.000000    2.540000   \n",
       "25%     64.100000   52.000000  2145.000000    97.000000    3.150000   \n",
       "50%     65.500000   54.100000  2414.000000   120.000000    3.310000   \n",
       "75%     66.900000   55.500000  2935.000000   141.000000    3.590000   \n",
       "max     72.300000   59.800000  4066.000000   326.000000    3.940000   \n",
       "\n",
       "           stroke  compression-ratio  horsepower     peak-rpm    city-mpg  \\\n",
       "count  201.000000         205.000000  203.000000   203.000000  205.000000   \n",
       "mean     3.255423          10.142537  104.256158  5125.369458   25.219512   \n",
       "std      0.316717           3.972040   39.714369   479.334560    6.542142   \n",
       "min      2.070000           7.000000   48.000000  4150.000000   13.000000   \n",
       "25%      3.110000           8.600000   70.000000  4800.000000   19.000000   \n",
       "50%      3.290000           9.000000   95.000000  5200.000000   24.000000   \n",
       "75%      3.410000           9.400000  116.000000  5500.000000   30.000000   \n",
       "max      4.170000          23.000000  288.000000  6600.000000   49.000000   \n",
       "\n",
       "       highway-mpg         price  \n",
       "count   205.000000    201.000000  \n",
       "mean     30.751220  13207.129353  \n",
       "std       6.886443   7947.066342  \n",
       "min      16.000000   5118.000000  \n",
       "25%      25.000000   7775.000000  \n",
       "50%      30.000000  10295.000000  \n",
       "75%      34.000000  16500.000000  \n",
       "max      54.000000  45400.000000  "
      ]
     },
     "execution_count": 14,
     "metadata": {},
     "output_type": "execute_result"
    }
   ],
   "source": [
    "df.describe()"
   ]
  },
  {
   "cell_type": "code",
   "execution_count": 42,
   "metadata": {},
   "outputs": [
    {
     "data": {
      "text/html": [
       "<div>\n",
       "<style scoped>\n",
       "    .dataframe tbody tr th:only-of-type {\n",
       "        vertical-align: middle;\n",
       "    }\n",
       "\n",
       "    .dataframe tbody tr th {\n",
       "        vertical-align: top;\n",
       "    }\n",
       "\n",
       "    .dataframe thead th {\n",
       "        text-align: right;\n",
       "    }\n",
       "</style>\n",
       "<table border=\"1\" class=\"dataframe\">\n",
       "  <thead>\n",
       "    <tr style=\"text-align: right;\">\n",
       "      <th></th>\n",
       "      <th>ID</th>\n",
       "      <th>normalized-losses</th>\n",
       "      <th>symboling</th>\n",
       "      <th>wheel-base</th>\n",
       "      <th>length</th>\n",
       "      <th>width</th>\n",
       "      <th>height</th>\n",
       "      <th>curb-weight</th>\n",
       "      <th>engine-size</th>\n",
       "      <th>bore</th>\n",
       "      <th>stroke</th>\n",
       "      <th>compression-ratio</th>\n",
       "      <th>horsepower</th>\n",
       "      <th>peak-rpm</th>\n",
       "      <th>city-mpg</th>\n",
       "      <th>highway-mpg</th>\n",
       "      <th>price</th>\n",
       "    </tr>\n",
       "  </thead>\n",
       "  <tbody>\n",
       "    <tr>\n",
       "      <th>ID</th>\n",
       "      <td>1.000000</td>\n",
       "      <td>-0.221681</td>\n",
       "      <td>-0.151621</td>\n",
       "      <td>0.129729</td>\n",
       "      <td>0.170636</td>\n",
       "      <td>0.052387</td>\n",
       "      <td>0.255960</td>\n",
       "      <td>0.071962</td>\n",
       "      <td>-0.033930</td>\n",
       "      <td>0.261622</td>\n",
       "      <td>-0.161799</td>\n",
       "      <td>0.150276</td>\n",
       "      <td>-0.014415</td>\n",
       "      <td>-0.203775</td>\n",
       "      <td>0.015940</td>\n",
       "      <td>0.011255</td>\n",
       "      <td>-0.110874</td>\n",
       "    </tr>\n",
       "    <tr>\n",
       "      <th>normalized-losses</th>\n",
       "      <td>-0.221681</td>\n",
       "      <td>1.000000</td>\n",
       "      <td>0.457484</td>\n",
       "      <td>-0.073709</td>\n",
       "      <td>-0.006837</td>\n",
       "      <td>0.058378</td>\n",
       "      <td>-0.365674</td>\n",
       "      <td>0.064343</td>\n",
       "      <td>0.072536</td>\n",
       "      <td>-0.049534</td>\n",
       "      <td>0.045133</td>\n",
       "      <td>-0.114772</td>\n",
       "      <td>0.166964</td>\n",
       "      <td>0.241470</td>\n",
       "      <td>-0.189530</td>\n",
       "      <td>-0.149357</td>\n",
       "      <td>0.095489</td>\n",
       "    </tr>\n",
       "    <tr>\n",
       "      <th>symboling</th>\n",
       "      <td>-0.151621</td>\n",
       "      <td>0.457484</td>\n",
       "      <td>1.000000</td>\n",
       "      <td>-0.531954</td>\n",
       "      <td>-0.357612</td>\n",
       "      <td>-0.232919</td>\n",
       "      <td>-0.541038</td>\n",
       "      <td>-0.227691</td>\n",
       "      <td>-0.105790</td>\n",
       "      <td>-0.134205</td>\n",
       "      <td>-0.008965</td>\n",
       "      <td>-0.178515</td>\n",
       "      <td>0.071064</td>\n",
       "      <td>0.274573</td>\n",
       "      <td>-0.035823</td>\n",
       "      <td>0.034606</td>\n",
       "      <td>-0.080149</td>\n",
       "    </tr>\n",
       "    <tr>\n",
       "      <th>wheel-base</th>\n",
       "      <td>0.129729</td>\n",
       "      <td>-0.073709</td>\n",
       "      <td>-0.531954</td>\n",
       "      <td>1.000000</td>\n",
       "      <td>0.874587</td>\n",
       "      <td>0.795144</td>\n",
       "      <td>0.589435</td>\n",
       "      <td>0.776386</td>\n",
       "      <td>0.569329</td>\n",
       "      <td>0.490378</td>\n",
       "      <td>0.161477</td>\n",
       "      <td>0.249786</td>\n",
       "      <td>0.352876</td>\n",
       "      <td>-0.361052</td>\n",
       "      <td>-0.470414</td>\n",
       "      <td>-0.544082</td>\n",
       "      <td>0.584847</td>\n",
       "    </tr>\n",
       "    <tr>\n",
       "      <th>length</th>\n",
       "      <td>0.170636</td>\n",
       "      <td>-0.006837</td>\n",
       "      <td>-0.357612</td>\n",
       "      <td>0.874587</td>\n",
       "      <td>1.000000</td>\n",
       "      <td>0.841118</td>\n",
       "      <td>0.491029</td>\n",
       "      <td>0.877728</td>\n",
       "      <td>0.683360</td>\n",
       "      <td>0.607480</td>\n",
       "      <td>0.129739</td>\n",
       "      <td>0.158414</td>\n",
       "      <td>0.553337</td>\n",
       "      <td>-0.287325</td>\n",
       "      <td>-0.670909</td>\n",
       "      <td>-0.704662</td>\n",
       "      <td>0.686567</td>\n",
       "    </tr>\n",
       "    <tr>\n",
       "      <th>width</th>\n",
       "      <td>0.052387</td>\n",
       "      <td>0.058378</td>\n",
       "      <td>-0.232919</td>\n",
       "      <td>0.795144</td>\n",
       "      <td>0.841118</td>\n",
       "      <td>1.000000</td>\n",
       "      <td>0.279210</td>\n",
       "      <td>0.867032</td>\n",
       "      <td>0.735433</td>\n",
       "      <td>0.559204</td>\n",
       "      <td>0.182956</td>\n",
       "      <td>0.181129</td>\n",
       "      <td>0.641337</td>\n",
       "      <td>-0.219957</td>\n",
       "      <td>-0.642704</td>\n",
       "      <td>-0.677218</td>\n",
       "      <td>0.724558</td>\n",
       "    </tr>\n",
       "    <tr>\n",
       "      <th>height</th>\n",
       "      <td>0.255960</td>\n",
       "      <td>-0.365674</td>\n",
       "      <td>-0.541038</td>\n",
       "      <td>0.589435</td>\n",
       "      <td>0.491029</td>\n",
       "      <td>0.279210</td>\n",
       "      <td>1.000000</td>\n",
       "      <td>0.295572</td>\n",
       "      <td>0.067149</td>\n",
       "      <td>0.176195</td>\n",
       "      <td>-0.056999</td>\n",
       "      <td>0.261214</td>\n",
       "      <td>-0.109286</td>\n",
       "      <td>-0.322272</td>\n",
       "      <td>-0.048640</td>\n",
       "      <td>-0.107358</td>\n",
       "      <td>0.140439</td>\n",
       "    </tr>\n",
       "    <tr>\n",
       "      <th>curb-weight</th>\n",
       "      <td>0.071962</td>\n",
       "      <td>0.064343</td>\n",
       "      <td>-0.227691</td>\n",
       "      <td>0.776386</td>\n",
       "      <td>0.877728</td>\n",
       "      <td>0.867032</td>\n",
       "      <td>0.295572</td>\n",
       "      <td>1.000000</td>\n",
       "      <td>0.850594</td>\n",
       "      <td>0.649045</td>\n",
       "      <td>0.168929</td>\n",
       "      <td>0.151362</td>\n",
       "      <td>0.750927</td>\n",
       "      <td>-0.266306</td>\n",
       "      <td>-0.757414</td>\n",
       "      <td>-0.797465</td>\n",
       "      <td>0.819817</td>\n",
       "    </tr>\n",
       "    <tr>\n",
       "      <th>engine-size</th>\n",
       "      <td>-0.033930</td>\n",
       "      <td>0.072536</td>\n",
       "      <td>-0.105790</td>\n",
       "      <td>0.569329</td>\n",
       "      <td>0.683360</td>\n",
       "      <td>0.735433</td>\n",
       "      <td>0.067149</td>\n",
       "      <td>0.850594</td>\n",
       "      <td>1.000000</td>\n",
       "      <td>0.594090</td>\n",
       "      <td>0.206675</td>\n",
       "      <td>0.028971</td>\n",
       "      <td>0.810216</td>\n",
       "      <td>-0.244618</td>\n",
       "      <td>-0.653658</td>\n",
       "      <td>-0.677470</td>\n",
       "      <td>0.860343</td>\n",
       "    </tr>\n",
       "    <tr>\n",
       "      <th>bore</th>\n",
       "      <td>0.261622</td>\n",
       "      <td>-0.049534</td>\n",
       "      <td>-0.134205</td>\n",
       "      <td>0.490378</td>\n",
       "      <td>0.607480</td>\n",
       "      <td>0.559204</td>\n",
       "      <td>0.176195</td>\n",
       "      <td>0.649045</td>\n",
       "      <td>0.594090</td>\n",
       "      <td>1.000000</td>\n",
       "      <td>-0.055909</td>\n",
       "      <td>0.005203</td>\n",
       "      <td>0.575368</td>\n",
       "      <td>-0.264269</td>\n",
       "      <td>-0.594584</td>\n",
       "      <td>-0.594572</td>\n",
       "      <td>0.533139</td>\n",
       "    </tr>\n",
       "    <tr>\n",
       "      <th>stroke</th>\n",
       "      <td>-0.161799</td>\n",
       "      <td>0.045133</td>\n",
       "      <td>-0.008965</td>\n",
       "      <td>0.161477</td>\n",
       "      <td>0.129739</td>\n",
       "      <td>0.182956</td>\n",
       "      <td>-0.056999</td>\n",
       "      <td>0.168929</td>\n",
       "      <td>0.206675</td>\n",
       "      <td>-0.055909</td>\n",
       "      <td>1.000000</td>\n",
       "      <td>0.186170</td>\n",
       "      <td>0.083651</td>\n",
       "      <td>-0.071493</td>\n",
       "      <td>-0.042906</td>\n",
       "      <td>-0.044528</td>\n",
       "      <td>0.083716</td>\n",
       "    </tr>\n",
       "    <tr>\n",
       "      <th>compression-ratio</th>\n",
       "      <td>0.150276</td>\n",
       "      <td>-0.114772</td>\n",
       "      <td>-0.178515</td>\n",
       "      <td>0.249786</td>\n",
       "      <td>0.158414</td>\n",
       "      <td>0.181129</td>\n",
       "      <td>0.261214</td>\n",
       "      <td>0.151362</td>\n",
       "      <td>0.028971</td>\n",
       "      <td>0.005203</td>\n",
       "      <td>0.186170</td>\n",
       "      <td>1.000000</td>\n",
       "      <td>-0.204851</td>\n",
       "      <td>-0.436221</td>\n",
       "      <td>0.324701</td>\n",
       "      <td>0.265201</td>\n",
       "      <td>0.072890</td>\n",
       "    </tr>\n",
       "    <tr>\n",
       "      <th>horsepower</th>\n",
       "      <td>-0.014415</td>\n",
       "      <td>0.166964</td>\n",
       "      <td>0.071064</td>\n",
       "      <td>0.352876</td>\n",
       "      <td>0.553337</td>\n",
       "      <td>0.641337</td>\n",
       "      <td>-0.109286</td>\n",
       "      <td>0.750927</td>\n",
       "      <td>0.810216</td>\n",
       "      <td>0.575368</td>\n",
       "      <td>0.083651</td>\n",
       "      <td>-0.204851</td>\n",
       "      <td>1.000000</td>\n",
       "      <td>0.130971</td>\n",
       "      <td>-0.802170</td>\n",
       "      <td>-0.770780</td>\n",
       "      <td>0.749919</td>\n",
       "    </tr>\n",
       "    <tr>\n",
       "      <th>peak-rpm</th>\n",
       "      <td>-0.203775</td>\n",
       "      <td>0.241470</td>\n",
       "      <td>0.274573</td>\n",
       "      <td>-0.361052</td>\n",
       "      <td>-0.287325</td>\n",
       "      <td>-0.219957</td>\n",
       "      <td>-0.322272</td>\n",
       "      <td>-0.266306</td>\n",
       "      <td>-0.244618</td>\n",
       "      <td>-0.264269</td>\n",
       "      <td>-0.071493</td>\n",
       "      <td>-0.436221</td>\n",
       "      <td>0.130971</td>\n",
       "      <td>1.000000</td>\n",
       "      <td>-0.113788</td>\n",
       "      <td>-0.054257</td>\n",
       "      <td>-0.106712</td>\n",
       "    </tr>\n",
       "    <tr>\n",
       "      <th>city-mpg</th>\n",
       "      <td>0.015940</td>\n",
       "      <td>-0.189530</td>\n",
       "      <td>-0.035823</td>\n",
       "      <td>-0.470414</td>\n",
       "      <td>-0.670909</td>\n",
       "      <td>-0.642704</td>\n",
       "      <td>-0.048640</td>\n",
       "      <td>-0.757414</td>\n",
       "      <td>-0.653658</td>\n",
       "      <td>-0.594584</td>\n",
       "      <td>-0.042906</td>\n",
       "      <td>0.324701</td>\n",
       "      <td>-0.802170</td>\n",
       "      <td>-0.113788</td>\n",
       "      <td>1.000000</td>\n",
       "      <td>0.971337</td>\n",
       "      <td>-0.668822</td>\n",
       "    </tr>\n",
       "    <tr>\n",
       "      <th>highway-mpg</th>\n",
       "      <td>0.011255</td>\n",
       "      <td>-0.149357</td>\n",
       "      <td>0.034606</td>\n",
       "      <td>-0.544082</td>\n",
       "      <td>-0.704662</td>\n",
       "      <td>-0.677218</td>\n",
       "      <td>-0.107358</td>\n",
       "      <td>-0.797465</td>\n",
       "      <td>-0.677470</td>\n",
       "      <td>-0.594572</td>\n",
       "      <td>-0.044528</td>\n",
       "      <td>0.265201</td>\n",
       "      <td>-0.770780</td>\n",
       "      <td>-0.054257</td>\n",
       "      <td>0.971337</td>\n",
       "      <td>1.000000</td>\n",
       "      <td>-0.693037</td>\n",
       "    </tr>\n",
       "    <tr>\n",
       "      <th>price</th>\n",
       "      <td>-0.110874</td>\n",
       "      <td>0.095489</td>\n",
       "      <td>-0.080149</td>\n",
       "      <td>0.584847</td>\n",
       "      <td>0.686567</td>\n",
       "      <td>0.724558</td>\n",
       "      <td>0.140439</td>\n",
       "      <td>0.819817</td>\n",
       "      <td>0.860343</td>\n",
       "      <td>0.533139</td>\n",
       "      <td>0.083716</td>\n",
       "      <td>0.072890</td>\n",
       "      <td>0.749919</td>\n",
       "      <td>-0.106712</td>\n",
       "      <td>-0.668822</td>\n",
       "      <td>-0.693037</td>\n",
       "      <td>1.000000</td>\n",
       "    </tr>\n",
       "  </tbody>\n",
       "</table>\n",
       "</div>"
      ],
      "text/plain": [
       "                         ID  normalized-losses  symboling  wheel-base  \\\n",
       "ID                 1.000000          -0.221681  -0.151621    0.129729   \n",
       "normalized-losses -0.221681           1.000000   0.457484   -0.073709   \n",
       "symboling         -0.151621           0.457484   1.000000   -0.531954   \n",
       "wheel-base         0.129729          -0.073709  -0.531954    1.000000   \n",
       "length             0.170636          -0.006837  -0.357612    0.874587   \n",
       "width              0.052387           0.058378  -0.232919    0.795144   \n",
       "height             0.255960          -0.365674  -0.541038    0.589435   \n",
       "curb-weight        0.071962           0.064343  -0.227691    0.776386   \n",
       "engine-size       -0.033930           0.072536  -0.105790    0.569329   \n",
       "bore               0.261622          -0.049534  -0.134205    0.490378   \n",
       "stroke            -0.161799           0.045133  -0.008965    0.161477   \n",
       "compression-ratio  0.150276          -0.114772  -0.178515    0.249786   \n",
       "horsepower        -0.014415           0.166964   0.071064    0.352876   \n",
       "peak-rpm          -0.203775           0.241470   0.274573   -0.361052   \n",
       "city-mpg           0.015940          -0.189530  -0.035823   -0.470414   \n",
       "highway-mpg        0.011255          -0.149357   0.034606   -0.544082   \n",
       "price             -0.110874           0.095489  -0.080149    0.584847   \n",
       "\n",
       "                     length     width    height  curb-weight  engine-size  \\\n",
       "ID                 0.170636  0.052387  0.255960     0.071962    -0.033930   \n",
       "normalized-losses -0.006837  0.058378 -0.365674     0.064343     0.072536   \n",
       "symboling         -0.357612 -0.232919 -0.541038    -0.227691    -0.105790   \n",
       "wheel-base         0.874587  0.795144  0.589435     0.776386     0.569329   \n",
       "length             1.000000  0.841118  0.491029     0.877728     0.683360   \n",
       "width              0.841118  1.000000  0.279210     0.867032     0.735433   \n",
       "height             0.491029  0.279210  1.000000     0.295572     0.067149   \n",
       "curb-weight        0.877728  0.867032  0.295572     1.000000     0.850594   \n",
       "engine-size        0.683360  0.735433  0.067149     0.850594     1.000000   \n",
       "bore               0.607480  0.559204  0.176195     0.649045     0.594090   \n",
       "stroke             0.129739  0.182956 -0.056999     0.168929     0.206675   \n",
       "compression-ratio  0.158414  0.181129  0.261214     0.151362     0.028971   \n",
       "horsepower         0.553337  0.641337 -0.109286     0.750927     0.810216   \n",
       "peak-rpm          -0.287325 -0.219957 -0.322272    -0.266306    -0.244618   \n",
       "city-mpg          -0.670909 -0.642704 -0.048640    -0.757414    -0.653658   \n",
       "highway-mpg       -0.704662 -0.677218 -0.107358    -0.797465    -0.677470   \n",
       "price              0.686567  0.724558  0.140439     0.819817     0.860343   \n",
       "\n",
       "                       bore    stroke  compression-ratio  horsepower  \\\n",
       "ID                 0.261622 -0.161799           0.150276   -0.014415   \n",
       "normalized-losses -0.049534  0.045133          -0.114772    0.166964   \n",
       "symboling         -0.134205 -0.008965          -0.178515    0.071064   \n",
       "wheel-base         0.490378  0.161477           0.249786    0.352876   \n",
       "length             0.607480  0.129739           0.158414    0.553337   \n",
       "width              0.559204  0.182956           0.181129    0.641337   \n",
       "height             0.176195 -0.056999           0.261214   -0.109286   \n",
       "curb-weight        0.649045  0.168929           0.151362    0.750927   \n",
       "engine-size        0.594090  0.206675           0.028971    0.810216   \n",
       "bore               1.000000 -0.055909           0.005203    0.575368   \n",
       "stroke            -0.055909  1.000000           0.186170    0.083651   \n",
       "compression-ratio  0.005203  0.186170           1.000000   -0.204851   \n",
       "horsepower         0.575368  0.083651          -0.204851    1.000000   \n",
       "peak-rpm          -0.264269 -0.071493          -0.436221    0.130971   \n",
       "city-mpg          -0.594584 -0.042906           0.324701   -0.802170   \n",
       "highway-mpg       -0.594572 -0.044528           0.265201   -0.770780   \n",
       "price              0.533139  0.083716           0.072890    0.749919   \n",
       "\n",
       "                   peak-rpm  city-mpg  highway-mpg     price  \n",
       "ID                -0.203775  0.015940     0.011255 -0.110874  \n",
       "normalized-losses  0.241470 -0.189530    -0.149357  0.095489  \n",
       "symboling          0.274573 -0.035823     0.034606 -0.080149  \n",
       "wheel-base        -0.361052 -0.470414    -0.544082  0.584847  \n",
       "length            -0.287325 -0.670909    -0.704662  0.686567  \n",
       "width             -0.219957 -0.642704    -0.677218  0.724558  \n",
       "height            -0.322272 -0.048640    -0.107358  0.140439  \n",
       "curb-weight       -0.266306 -0.757414    -0.797465  0.819817  \n",
       "engine-size       -0.244618 -0.653658    -0.677470  0.860343  \n",
       "bore              -0.264269 -0.594584    -0.594572  0.533139  \n",
       "stroke            -0.071493 -0.042906    -0.044528  0.083716  \n",
       "compression-ratio -0.436221  0.324701     0.265201  0.072890  \n",
       "horsepower         0.130971 -0.802170    -0.770780  0.749919  \n",
       "peak-rpm           1.000000 -0.113788    -0.054257 -0.106712  \n",
       "city-mpg          -0.113788  1.000000     0.971337 -0.668822  \n",
       "highway-mpg       -0.054257  0.971337     1.000000 -0.693037  \n",
       "price             -0.106712 -0.668822    -0.693037  1.000000  "
      ]
     },
     "execution_count": 42,
     "metadata": {},
     "output_type": "execute_result"
    }
   ],
   "source": [
    "df.corr()"
   ]
  },
  {
   "cell_type": "code",
   "execution_count": 43,
   "metadata": {},
   "outputs": [
    {
     "data": {
      "text/plain": [
       "ID                   0\n",
       "normalized-losses    0\n",
       "symboling            0\n",
       "make                 0\n",
       "fuel-type            0\n",
       "aspiration           0\n",
       "num-of-doors         1\n",
       "body-style           0\n",
       "drive-wheel          0\n",
       "engine-loc           0\n",
       "wheel-base           0\n",
       "length               0\n",
       "width                0\n",
       "height               0\n",
       "curb-weight          0\n",
       "engine-type          0\n",
       "cylinder             0\n",
       "engine-size          0\n",
       "fuel-system          0\n",
       "bore                 4\n",
       "stroke               4\n",
       "compression-ratio    0\n",
       "horsepower           0\n",
       "peak-rpm             2\n",
       "city-mpg             0\n",
       "highway-mpg          0\n",
       "price                0\n",
       "dtype: int64"
      ]
     },
     "execution_count": 43,
     "metadata": {},
     "output_type": "execute_result"
    }
   ],
   "source": [
    "df.isnull().sum() # terdapat 6 field yang mempunyai missing value"
   ]
  },
  {
   "cell_type": "code",
   "execution_count": 34,
   "metadata": {},
   "outputs": [],
   "source": [
    "#Trial adalah dataset dari df yang digunakan untuk percobaan\n",
    "trial=df"
   ]
  },
  {
   "cell_type": "markdown",
   "metadata": {},
   "source": [
    "### Menggunakan 2 feature yaitu 'Engine-size' dan 'Horsepower'"
   ]
  },
  {
   "cell_type": "code",
   "execution_count": 114,
   "metadata": {},
   "outputs": [],
   "source": [
    "test=trial[['engine-size','horsepower']]"
   ]
  },
  {
   "cell_type": "code",
   "execution_count": 115,
   "metadata": {},
   "outputs": [],
   "source": [
    "from sklearn.preprocessing import StandardScaler\n",
    "scaler=StandardScaler()"
   ]
  },
  {
   "cell_type": "markdown",
   "metadata": {},
   "source": [
    "### Scale Data\n",
    "Digunakan scale data karena pada semua metode klastering yang digunakan yaitu KMeans, Hierarki dan DBSCAN <br>\n",
    "menggunakan jarak sebagai parameter dan jarak sangat bergantung dengan satuan atribut/feature"
   ]
  },
  {
   "cell_type": "code",
   "execution_count": 116,
   "metadata": {},
   "outputs": [],
   "source": [
    "mod=scaler.fit(test)"
   ]
  },
  {
   "cell_type": "code",
   "execution_count": 117,
   "metadata": {},
   "outputs": [],
   "source": [
    "X=mod.transform(test)"
   ]
  },
  {
   "cell_type": "code",
   "execution_count": null,
   "metadata": {},
   "outputs": [],
   "source": []
  },
  {
   "cell_type": "code",
   "execution_count": 188,
   "metadata": {},
   "outputs": [
    {
     "data": {
      "text/plain": [
       "Text(0.5,1,'Engine-Size vs Horsepower')"
      ]
     },
     "execution_count": 188,
     "metadata": {},
     "output_type": "execute_result"
    },
    {
     "data": {
      "image/png": "[encoded data removed]",
      "text/plain": [
       "<matplotlib.figure.Figure at 0x1ee0c34ec50>"
      ]
     },
     "metadata": {},
     "output_type": "display_data"
    }
   ],
   "source": [
    "## Menampilkan data ke dalam grafik scatterplot \n",
    "plt.figure(figsize=(15,15))\n",
    "plt.scatter(X[:,0],X[:,1], label = 'True Position')\n",
    "plt.xlabel(\"Engine-Size\")\n",
    "plt.ylabel(\"Horsepower\")\n",
    "plt.title(\"Engine-Size vs Horsepower\")"
   ]
  },
  {
   "cell_type": "code",
   "execution_count": 121,
   "metadata": {},
   "outputs": [],
   "source": [
    "from sklearn.cluster import KMeans"
   ]
  },
  {
   "cell_type": "markdown",
   "metadata": {},
   "source": [
    "### Menentukan nilai K\n",
    "Untuk menentukan nilai K akan dicoba menggunakan elbow method"
   ]
  },
  {
   "cell_type": "code",
   "execution_count": 137,
   "metadata": {},
   "outputs": [
    {
     "data": {
      "image/png": "[encoded data removed]",
      "text/plain": [
       "<matplotlib.figure.Figure at 0x1ee08c0c780>"
      ]
     },
     "metadata": {},
     "output_type": "display_data"
    }
   ],
   "source": [
    "Sum_of_squared_distances = []\n",
    "plt.figure(figsize=(10,10))\n",
    "K = range(2,50)\n",
    "for k in K:\n",
    "    km = KMeans(n_clusters=k)\n",
    "    km = km.fit(X)\n",
    "    Sum_of_squared_distances.append(km.inertia_)\n",
    "\n",
    "plt.plot(K, Sum_of_squared_distances, 'bx-')\n",
    "plt.xlabel('k')\n",
    "plt.ylabel('Sum_of_squared_distances')\n",
    "plt.title('Elbow Method For Optimal k')\n",
    "plt.show()"
   ]
  },
  {
   "cell_type": "markdown",
   "metadata": {},
   "source": [
    "Berdasarkan elbow method di atas masih sulit untuk ditentukan nilai K nya , kemungkinan berada pada interval 10 s.d 20 <br>\n",
    "oleh karena itu akan dilihat menggunakan metode silhouette score"
   ]
  },
  {
   "cell_type": "markdown",
   "metadata": {},
   "source": [
    "### Silhouette Score"
   ]
  },
  {
   "cell_type": "code",
   "execution_count": 208,
   "metadata": {},
   "outputs": [
    {
     "name": "stdout",
     "output_type": "stream",
     "text": [
      "For n_clusters = 10, silhouette score is 0.5286044959388911)\n",
      "For n_clusters = 11, silhouette score is 0.5369553568349431)\n",
      "For n_clusters = 12, silhouette score is 0.5488365973168784)\n",
      "For n_clusters = 13, silhouette score is 0.5231438881622574)\n",
      "For n_clusters = 14, silhouette score is 0.5454568720701122)\n",
      "For n_clusters = 15, silhouette score is 0.5737388477170409)\n",
      "For n_clusters = 16, silhouette score is 0.5886788082242763)\n",
      "For n_clusters = 17, silhouette score is 0.5539195343371235)\n",
      "For n_clusters = 18, silhouette score is 0.5830776149943424)\n",
      "For n_clusters = 19, silhouette score is 0.5912555465063378)\n",
      "For n_clusters = 20, silhouette score is 0.5884288056205115)\n",
      "For n_clusters = 21, silhouette score is 0.5776193419556968)\n"
     ]
    }
   ],
   "source": [
    "from sklearn.metrics import silhouette_score\n",
    "skor=[]\n",
    "#Silhoute SCore\n",
    "for n_clusters in range(10,22):\n",
    "    clusterer = KMeans (n_clusters=n_clusters)\n",
    "    preds = clusterer.fit_predict(X)\n",
    "    centers = clusterer.cluster_centers_\n",
    "\n",
    "    score = silhouette_score (X, preds, metric='euclidean')\n",
    "    skor.append(score)\n",
    "    print (\"For n_clusters = {}, silhouette score is {})\".format(n_clusters, score))"
   ]
  },
  {
   "cell_type": "markdown",
   "metadata": {},
   "source": [
    "Berdasarkan silhouette scorenya pada interval 10-20 nilai tertinggi ada pada nilai n_cluster=19.<br>\n",
    "Sehingga akan digunakan nilai K = 19 dengan silhouette scorenya adalah 0.59125"
   ]
  },
  {
   "cell_type": "code",
   "execution_count": 193,
   "metadata": {},
   "outputs": [
    {
     "data": {
      "text/plain": [
       "KMeans(algorithm='auto', copy_x=True, init='k-means++', max_iter=300,\n",
       "    n_clusters=20, n_init=10, n_jobs=1, precompute_distances='auto',\n",
       "    random_state=None, tol=0.0001, verbose=0)"
      ]
     },
     "execution_count": 193,
     "metadata": {},
     "output_type": "execute_result"
    }
   ],
   "source": [
    "# Melakukan aktivasi algoritma K-Means \n",
    "kmeans = KMeans(n_clusters=20)\n",
    "kmeans.fit(X)"
   ]
  },
  {
   "cell_type": "code",
   "execution_count": 194,
   "metadata": {},
   "outputs": [
    {
     "name": "stdout",
     "output_type": "stream",
     "text": [
      "[[-0.80302102 -0.8992415 ]\n",
      " [ 1.21187937  1.3334993 ]\n",
      " [ 0.32319915  0.23610401]\n",
      " [ 4.31122687  2.02454134]\n",
      " [-0.54799978 -0.06035877]\n",
      " [ 1.83174887  4.6619128 ]\n",
      " [ 0.09852153  1.36238077]\n",
      " [ 1.53685949  2.56342734]\n",
      " [-0.41542852 -0.56464738]\n",
      " [ 2.57799953  1.28912045]\n",
      " [ 1.14868879  0.49347113]\n",
      " [-0.30001377  0.2043042 ]\n",
      " [ 4.79267891  4.00256994]\n",
      " [-0.10368833 -0.35416485]\n",
      " [ 0.60404617 -0.23244001]\n",
      " [-1.30972569  0.13527044]\n",
      " [ 1.97618448  1.97382266]\n",
      " [-0.80119197 -1.2563234 ]\n",
      " [ 3.15574198  1.82166661]\n",
      " [ 0.68830028  1.09258556]]\n"
     ]
    }
   ],
   "source": [
    "# Menampilkan nilai centroid yang dibangkitkan oleh algoritma kmeans \n",
    "print(kmeans.cluster_centers_)"
   ]
  },
  {
   "cell_type": "code",
   "execution_count": 195,
   "metadata": {},
   "outputs": [
    {
     "data": {
      "image/png": "[encoded data removed]",
      "text/plain": [
       "<matplotlib.figure.Figure at 0x1ee06fce4e0>"
      ]
     },
     "metadata": {},
     "output_type": "display_data"
    }
   ],
   "source": [
    "# Step 7 Visualisasi Hasil \n",
    "plt.figure(figsize=(15,15))\n",
    "plt.scatter(X[:,0],X[:,1], c=kmeans.labels_, cmap='Set1')\n",
    "plt.xlabel(\"Engine Size\")\n",
    "plt.ylabel(\"Horsepower\")\n",
    "plt.title(\"Engine size vs Horsepower\")\n",
    "plt.show()"
   ]
  },
  {
   "cell_type": "markdown",
   "metadata": {},
   "source": [
    "# Hierarchical Clustering"
   ]
  },
  {
   "cell_type": "code",
   "execution_count": 150,
   "metadata": {},
   "outputs": [
    {
     "data": {
      "image/png": "[encoded data removed]",
      "text/plain": [
       "<matplotlib.figure.Figure at 0x1ee0c3cde48>"
      ]
     },
     "metadata": {},
     "output_type": "display_data"
    }
   ],
   "source": [
    "plt.figure(figsize=(8,8))\n",
    "dendrogram = sch.dendrogram(sch.linkage(X, method='ward'))"
   ]
  },
  {
   "cell_type": "markdown",
   "metadata": {},
   "source": [
    "Dengan melihat dari dendogram di atas disarankan untuk menggunakan nilai K=3, <br>\n",
    "Sehingga banyaknya klaster yang dibentuk adalah 3 kelompok."
   ]
  },
  {
   "cell_type": "code",
   "execution_count": 196,
   "metadata": {},
   "outputs": [],
   "source": [
    "# Melakukan hierarchical clustering\n",
    "model = AgglomerativeClustering(n_clusters=3, affinity='euclidean', linkage='ward')\n",
    "model.fit(X)\n",
    "labels = model.labels_"
   ]
  },
  {
   "cell_type": "code",
   "execution_count": 197,
   "metadata": {},
   "outputs": [
    {
     "data": {
      "image/png": "[encoded data removed]",
      "text/plain": [
       "<matplotlib.figure.Figure at 0x1ee0c20b048>"
      ]
     },
     "metadata": {},
     "output_type": "display_data"
    }
   ],
   "source": [
    "# Mengeplot Data setelah dilakukan hierarchical clustering\n",
    "plt.figure(figsize=(15,15))\n",
    "plt.scatter(X[labels==0, 0], X[labels==0, 1], s=50, marker='o', color='red')\n",
    "plt.scatter(X[labels==1, 0], X[labels==1, 1], s=50, marker='o', color='blue')\n",
    "plt.scatter(X[labels==2, 0], X[labels==2, 1], s=50, marker='o', color='green')\n",
    "plt.show()"
   ]
  },
  {
   "cell_type": "code",
   "execution_count": 198,
   "metadata": {},
   "outputs": [
    {
     "name": "stdout",
     "output_type": "stream",
     "text": [
      "For n_clusters = 3, silhouette score is 0.5325815349936047)\n"
     ]
    }
   ],
   "source": [
    "skor=[]\n",
    "#Silhoute SCore\n",
    "for n_clusters in [3]:\n",
    "    model = AgglomerativeClustering(n_clusters=3, affinity='euclidean', linkage='ward')\n",
    "    preds=model.fit(X)\n",
    "    label=preds.labels_\n",
    "\n",
    "    score = silhouette_score (X, label)\n",
    "    skor.append(score)\n",
    "    print (\"For n_clusters = {}, silhouette score is {})\".format(n_clusters, score))"
   ]
  },
  {
   "cell_type": "markdown",
   "metadata": {},
   "source": [
    "# DBSCAN"
   ]
  },
  {
   "cell_type": "code",
   "execution_count": 83,
   "metadata": {},
   "outputs": [],
   "source": [
    "from sklearn.cluster import DBSCAN"
   ]
  },
  {
   "cell_type": "code",
   "execution_count": 204,
   "metadata": {},
   "outputs": [
    {
     "data": {
      "text/plain": [
       "array([ 0,  0,  1,  2,  0,  0,  0,  0, -1,  3,  2,  2, -1, -1, -1, -1, -1,\n",
       "       -1, -1,  2,  2,  2,  2,  2,  2,  2,  2,  2,  2,  1,  2,  2, -1,  2,\n",
       "        2,  2,  2,  2,  2,  2,  2,  2,  2,  2,  2,  2,  2, -1, -1, -1,  2,\n",
       "        2,  2,  2,  2, -1, -1, -1, -1,  2,  2,  2,  2, -1,  2,  0, -1,  4,\n",
       "        4,  4,  4, -1, -1, -1, -1, -1,  2,  2,  2,  2,  2,  2,  1,  1,  1,\n",
       "        2,  2,  2,  2,  2,  2,  2,  2,  2,  2,  2,  2,  2,  2,  2,  2,  1,\n",
       "        1,  1,  1, -1,  1,  2,  5,  2,  5,  2,  5,  2,  5,  2,  5, -1,  2,\n",
       "        2,  2,  2,  2,  2,  1,  1, -1, -1, -1, -1,  2,  2,  0,  0,  0,  0,\n",
       "        3,  3,  2,  2,  2,  2,  2,  2,  2,  2,  2,  2,  2,  2,  2,  2,  2,\n",
       "        2,  2,  2,  2,  2,  2,  2,  2,  2,  2,  2,  2,  2,  2,  0,  0,  0,\n",
       "        0,  0,  0,  2,  2,  2,  2,  2,  1,  1,  1,  1,  2,  2,  2,  2,  2,\n",
       "        2,  2,  2,  2,  0,  2,  2,  0,  0,  0,  0,  3,  3,  0,  3, -1,  0,\n",
       "        0], dtype=int64)"
      ]
     },
     "execution_count": 204,
     "metadata": {},
     "output_type": "execute_result"
    }
   ],
   "source": [
    "#Melakukan aktivasi algoritma DBSCAN\n",
    "dbscan = DBSCAN(eps=0.28,min_samples=4)\n",
    "preds=dbscan.fit(X)\n",
    "label=preds.labels_\n",
    "label"
   ]
  },
  {
   "cell_type": "markdown",
   "metadata": {},
   "source": [
    "Dari label di atas  dengan menggunakan algoritma DBSCAN terbentuk 6 klaster"
   ]
  },
  {
   "cell_type": "code",
   "execution_count": 201,
   "metadata": {},
   "outputs": [
    {
     "data": {
      "image/png": "[encoded data removed]",
      "text/plain": [
       "<matplotlib.figure.Figure at 0x1ee0cae4a58>"
      ]
     },
     "metadata": {},
     "output_type": "display_data"
    }
   ],
   "source": [
    "#Plot hasil setelah dilakukan algoritma DBSCAN\n",
    "plt.figure(figsize=(15,15))\n",
    "plt.scatter(X[:,0],X[:,1], c=dbscan.labels_, cmap='Set1')\n",
    "plt.xlabel(\"S\")\n",
    "plt.ylabel(\"Sepal Width\")\n",
    "plt.title(\"Iris with DBSCAN Clustering\")\n",
    "plt.show()"
   ]
  },
  {
   "cell_type": "code",
   "execution_count": 206,
   "metadata": {},
   "outputs": [
    {
     "name": "stdout",
     "output_type": "stream",
     "text": [
      "For n_clusters = 6, silhouette score is 0.34836486897062535)\n"
     ]
    }
   ],
   "source": [
    "skor=[]\n",
    "#Silhoute SCore\n",
    "n_clusters=6\n",
    "dbscan=DBSCAN(eps=0.28,min_samples=4)\n",
    "preds=dbscan.fit(X)\n",
    "label=preds.labels_\n",
    "\n",
    "score = silhouette_score (X, label)\n",
    "skor.append(score)\n",
    "print (\"For n_clusters = {}, silhouette score is {})\".format(n_clusters, score))"
   ]
  },
  {
   "cell_type": "markdown",
   "metadata": {},
   "source": []
  },
  {
   "cell_type": "markdown",
   "metadata": {},
   "source": [
    "# Kesimpulan"
   ]
  },
  {
   "cell_type": "markdown",
   "metadata": {},
   "source": [
    "### Berapa cluster yang Anda buat? Anda menggunakan atribut/feature apa saja?\n",
    "Banyak Kluster yang terbentuk :\n",
    "* Metode KMeans terbentuk 20 klaster\n",
    "* Metode Hierarchical Clustering terbentuk 3 klaster\n",
    "* Metode DBSCAN terbentuk 6 klaster\n",
    "\n",
    "Feature yang digunakan :\n",
    "* Menggunakan feature Engine-size dan Horsepower\n",
    "Digunakan 2 fitur tersebut karena kedua feature tersebut numerik kemudian nilai korelasi kedua feature tersebut sangat tinggi yaitu 0.81"
   ]
  },
  {
   "cell_type": "markdown",
   "metadata": {},
   "source": [
    "### Manakah algoritma clustering yang Anda ambil?Mengapa?\n",
    "Saya mengambil algoritma Kmeans karena silhouette scorenya paling tinggi yaitu sekitar 0.59 <br>\n",
    "dan juga membentuk klaster 19 merk klaster (mendekati dengan jenis mobil yang ada yaitu sebanyak merk 21 mobil)"
   ]
  },
  {
   "cell_type": "markdown",
   "metadata": {},
   "source": [
    "### Apakah masing-masing cluster memiliki ciri-ciri yang berbeda? Apa saja ciri-ciri masing-masing cluster?\n",
    "Berdasarkan hasil dari masing masing model :<br>\n",
    "KMeans : <br>\n",
    "* Terdapat minimal 1 parameter yaitu K\n",
    "* Pada Klaster yang terbentuk tidak hierarki\n",
    "* Klaster yang terbentuk tidak overlap antar klaster yang terbentuk\n",
    "* Hasil lebih bagus untuk data dengan ukuran yang besar\n",
    "\n",
    "Hierarchical CLustering :\n",
    "* Terdapat minimal 2 parameter Linkage dan method yang digunakan\n",
    "* Kurang baik untuk data yang kontinu dan data yang besar karena akan sulit membaca dendogram dikarenakan akan banyak sekali data\n",
    "\n",
    "\n",
    "DBSCAN :\n",
    "* Terdapat 2 parameter yaitu epsilon dan minimum points untuk digunakan\n",
    "* Bentuk pola klasternya bisa beragam tidak harus lingkaran \n"
   ]
  },
  {
   "cell_type": "code",
   "execution_count": null,
   "metadata": {},
   "outputs": [],
   "source": []
  }
 ],
 "metadata": {
  "kernelspec": {
   "display_name": "Python 3",
   "language": "python",
   "name": "python3"
  },
  "language_info": {
   "codemirror_mode": {
    "name": "ipython",
    "version": 3
   },
   "file_extension": ".py",
   "mimetype": "text/x-python",
   "name": "python",
   "nbconvert_exporter": "python",
   "pygments_lexer": "ipython3",
   "version": "3.6.4"
  }
 },
 "nbformat": 4,
 "nbformat_minor": 2
}
